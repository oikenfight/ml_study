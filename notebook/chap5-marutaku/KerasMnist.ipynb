{
 "cells": [
  {
   "cell_type": "code",
   "execution_count": 21,
   "metadata": {},
   "outputs": [],
   "source": [
    "from keras.datasets import mnist\n",
    "from keras.models import Sequential\n",
    "from keras.layers.core import Dense, Dropout, Activation\n",
    "from keras.optimizers import Adam\n",
    "from keras.utils import np_utils"
   ]
  },
  {
   "cell_type": "code",
   "execution_count": 22,
   "metadata": {},
   "outputs": [],
   "source": [
    "(X_train, Y_train), (X_test, Y_test) = mnist.load_data()"
   ]
  },
  {
   "cell_type": "code",
   "execution_count": 23,
   "metadata": {},
   "outputs": [],
   "source": [
    "X_train = X_train.reshape(60000, 784).astype('float32')\n",
    "X_test = X_test.reshape(10000, 784).astype('float')\n",
    "X_train[2]\n",
    "# 0〜1の間に正規化\n",
    "X_train /= 255\n",
    "X_test /= 255"
   ]
  },
  {
   "cell_type": "code",
   "execution_count": 24,
   "metadata": {},
   "outputs": [],
   "source": [
    "#ラベルデータを0〜９までのカテゴリを表す配列に変換\n",
    "Y_train = np_utils.to_categorical(Y_train, 10)\n",
    "Y_test = np_utils.to_categorical(Y_test, 10)"
   ]
  },
  {
   "cell_type": "code",
   "execution_count": 25,
   "metadata": {},
   "outputs": [],
   "source": [
    "# モデル構造を定義\n",
    "model = Sequential()\n",
    "model.add(Dense(512, input_shape=(784,)))\n",
    "model.add(Activation('relu'))\n",
    "model.add(Dropout(0.2))\n",
    "\n",
    "model.add(Dense(512))\n",
    "model.add(Activation('relu'))\n",
    "model.add(Dropout(0.2))\n",
    "\n",
    "model.add(Dense(10))\n",
    "model.add(Activation('softmax'))"
   ]
  },
  {
   "cell_type": "code",
   "execution_count": 26,
   "metadata": {},
   "outputs": [],
   "source": [
    "# モデルを構築\n",
    "model.compile(\n",
    "    loss='categorical_crossentropy',\n",
    "    optimizer=Adam(),\n",
    "    metrics=['accuracy']\n",
    ")"
   ]
  },
  {
   "cell_type": "code",
   "execution_count": 27,
   "metadata": {},
   "outputs": [
    {
     "name": "stdout",
     "output_type": "stream",
     "text": [
      "Epoch 1/10\n",
      "60000/60000 [==============================] - 17s - loss: 0.2171 - acc: 0.9336    \n",
      "Epoch 2/10\n",
      "60000/60000 [==============================] - 17s - loss: 0.1066 - acc: 0.9674    \n",
      "Epoch 3/10\n",
      "60000/60000 [==============================] - 17s - loss: 0.0830 - acc: 0.9751    \n",
      "Epoch 4/10\n",
      "60000/60000 [==============================] - 17s - loss: 0.0668 - acc: 0.9798    \n",
      "Epoch 5/10\n",
      "60000/60000 [==============================] - 17s - loss: 0.0558 - acc: 0.9829    \n",
      "Epoch 6/10\n",
      "60000/60000 [==============================] - 17s - loss: 0.0516 - acc: 0.9838    \n",
      "Epoch 7/10\n",
      "60000/60000 [==============================] - 16s - loss: 0.0474 - acc: 0.9852    \n",
      "Epoch 8/10\n",
      "60000/60000 [==============================] - 16s - loss: 0.0424 - acc: 0.9872    \n",
      "Epoch 9/10\n",
      "60000/60000 [==============================] - 15s - loss: 0.0403 - acc: 0.9876    \n",
      "Epoch 10/10\n",
      "60000/60000 [==============================] - 15s - loss: 0.0379 - acc: 0.9883    \n"
     ]
    }
   ],
   "source": [
    "# 訓練開始\n",
    "hist = model.fit(X_train,Y_train)"
   ]
  },
  {
   "cell_type": "code",
   "execution_count": null,
   "metadata": {},
   "outputs": [],
   "source": []
  }
 ],
 "metadata": {
  "kernelspec": {
   "display_name": "Python 3",
   "language": "python",
   "name": "python3"
  },
  "language_info": {
   "codemirror_mode": {
    "name": "ipython",
    "version": 3
   },
   "file_extension": ".py",
   "mimetype": "text/x-python",
   "name": "python",
   "nbconvert_exporter": "python",
   "pygments_lexer": "ipython3",
   "version": "3.5.0"
  }
 },
 "nbformat": 4,
 "nbformat_minor": 2
}
