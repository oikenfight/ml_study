{
 "cells": [
  {
   "cell_type": "code",
   "execution_count": 1,
   "metadata": {},
   "outputs": [
    {
     "name": "stderr",
     "output_type": "stream",
     "text": [
      "/opt/conda/lib/python3.6/site-packages/sklearn/cross_validation.py:44: DeprecationWarning: This module was deprecated in version 0.18 in favor of the model_selection module into which all the refactored classes and functions are moved. Also note that the interface of the new CV iterators are different from that of this module. This module will be removed in 0.20.\n",
      "  \"This module will be removed in 0.20.\", DeprecationWarning)\n"
     ]
    }
   ],
   "source": [
    "import pandas as pd\n",
    "from sklearn.ensemble import RandomForestClassifier\n",
    "from sklearn import cross_validation, metrics"
   ]
  },
  {
   "cell_type": "code",
   "execution_count": 2,
   "metadata": {},
   "outputs": [
    {
     "name": "stdout",
     "output_type": "stream",
     "text": [
      "     0  1  2  3  4  5  6  7  8  9  ... 13 14 15 16 17 18 19 20 21 22\n",
      "0     p  x  s  n  t  p  f  c  n  k ...  s  w  w  p  w  o  p  k  s  u\n",
      "1     e  x  s  y  t  a  f  c  b  k ...  s  w  w  p  w  o  p  n  n  g\n",
      "2     e  b  s  w  t  l  f  c  b  n ...  s  w  w  p  w  o  p  n  n  m\n",
      "3     p  x  y  w  t  p  f  c  n  n ...  s  w  w  p  w  o  p  k  s  u\n",
      "4     e  x  s  g  f  n  f  w  b  k ...  s  w  w  p  w  o  e  n  a  g\n",
      "5     e  x  y  y  t  a  f  c  b  n ...  s  w  w  p  w  o  p  k  n  g\n",
      "6     e  b  s  w  t  a  f  c  b  g ...  s  w  w  p  w  o  p  k  n  m\n",
      "7     e  b  y  w  t  l  f  c  b  n ...  s  w  w  p  w  o  p  n  s  m\n",
      "8     p  x  y  w  t  p  f  c  n  p ...  s  w  w  p  w  o  p  k  v  g\n",
      "9     e  b  s  y  t  a  f  c  b  g ...  s  w  w  p  w  o  p  k  s  m\n",
      "10    e  x  y  y  t  l  f  c  b  g ...  s  w  w  p  w  o  p  n  n  g\n",
      "11    e  x  y  y  t  a  f  c  b  n ...  s  w  w  p  w  o  p  k  s  m\n",
      "12    e  b  s  y  t  a  f  c  b  w ...  s  w  w  p  w  o  p  n  s  g\n",
      "13    p  x  y  w  t  p  f  c  n  k ...  s  w  w  p  w  o  p  n  v  u\n",
      "14    e  x  f  n  f  n  f  w  b  n ...  f  w  w  p  w  o  e  k  a  g\n",
      "15    e  s  f  g  f  n  f  c  n  k ...  s  w  w  p  w  o  p  n  y  u\n",
      "16    e  f  f  w  f  n  f  w  b  k ...  s  w  w  p  w  o  e  n  a  g\n",
      "17    p  x  s  n  t  p  f  c  n  n ...  s  w  w  p  w  o  p  k  s  g\n",
      "18    p  x  y  w  t  p  f  c  n  n ...  s  w  w  p  w  o  p  n  s  u\n",
      "19    p  x  s  n  t  p  f  c  n  k ...  s  w  w  p  w  o  p  n  s  u\n",
      "20    e  b  s  y  t  a  f  c  b  k ...  s  w  w  p  w  o  p  n  s  m\n",
      "21    p  x  y  n  t  p  f  c  n  n ...  s  w  w  p  w  o  p  n  v  g\n",
      "22    e  b  y  y  t  l  f  c  b  k ...  s  w  w  p  w  o  p  n  s  m\n",
      "23    e  b  y  w  t  a  f  c  b  w ...  s  w  w  p  w  o  p  n  n  m\n",
      "24    e  b  s  w  t  l  f  c  b  g ...  s  w  w  p  w  o  p  k  s  m\n",
      "25    p  f  s  w  t  p  f  c  n  n ...  s  w  w  p  w  o  p  n  v  g\n",
      "26    e  x  y  y  t  a  f  c  b  n ...  s  w  w  p  w  o  p  n  n  m\n",
      "27    e  x  y  w  t  l  f  c  b  w ...  s  w  w  p  w  o  p  n  n  m\n",
      "28    e  f  f  n  f  n  f  c  n  k ...  s  w  w  p  w  o  p  k  y  u\n",
      "29    e  x  s  y  t  a  f  w  n  n ...  s  w  w  p  w  o  p  n  v  d\n",
      "...  .. .. .. .. .. .. .. .. .. .. ... .. .. .. .. .. .. .. .. .. ..\n",
      "8094  e  b  s  g  f  n  f  w  b  g ...  s  w  w  p  w  t  p  w  n  g\n",
      "8095  p  x  y  c  f  m  f  c  b  y ...  y  c  c  p  w  n  n  w  c  d\n",
      "8096  e  k  f  w  f  n  f  w  b  w ...  s  w  w  p  w  t  p  w  n  g\n",
      "8097  p  k  y  n  f  s  f  c  n  b ...  k  p  p  p  w  o  e  w  v  l\n",
      "8098  p  k  s  e  f  y  f  c  n  b ...  k  w  p  p  w  o  e  w  v  d\n",
      "8099  e  k  f  w  f  n  f  w  b  w ...  k  w  w  p  w  t  p  w  s  g\n",
      "8100  e  f  s  n  f  n  a  c  b  o ...  s  o  o  p  n  o  p  b  v  l\n",
      "8101  p  k  s  e  f  s  f  c  n  b ...  s  p  w  p  w  o  e  w  v  p\n",
      "8102  e  x  s  n  f  n  a  c  b  y ...  s  o  o  p  n  o  p  n  c  l\n",
      "8103  e  k  s  n  f  n  a  c  b  y ...  s  o  o  p  n  o  p  o  c  l\n",
      "8104  e  k  s  n  f  n  a  c  b  y ...  s  o  o  p  o  o  p  n  v  l\n",
      "8105  e  k  s  n  f  n  a  c  b  y ...  s  o  o  p  n  o  p  y  v  l\n",
      "8106  e  k  s  n  f  n  a  c  b  o ...  s  o  o  p  o  o  p  n  v  l\n",
      "8107  e  x  s  n  f  n  a  c  b  y ...  s  o  o  p  o  o  p  n  c  l\n",
      "8108  p  k  y  e  f  y  f  c  n  b ...  s  p  w  p  w  o  e  w  v  l\n",
      "8109  e  b  s  w  f  n  f  w  b  w ...  s  w  w  p  w  t  p  w  n  g\n",
      "8110  e  x  s  n  f  n  a  c  b  o ...  s  o  o  p  o  o  p  n  v  l\n",
      "8111  e  k  s  w  f  n  f  w  b  p ...  s  w  w  p  w  t  p  w  n  g\n",
      "8112  e  k  s  n  f  n  a  c  b  o ...  s  o  o  p  n  o  p  b  v  l\n",
      "8113  p  k  y  e  f  y  f  c  n  b ...  k  p  p  p  w  o  e  w  v  d\n",
      "8114  p  f  y  c  f  m  a  c  b  y ...  y  c  c  p  w  n  n  w  c  d\n",
      "8115  e  x  s  n  f  n  a  c  b  y ...  s  o  o  p  o  o  p  o  v  l\n",
      "8116  p  k  y  n  f  s  f  c  n  b ...  k  p  w  p  w  o  e  w  v  l\n",
      "8117  p  k  s  e  f  y  f  c  n  b ...  s  p  w  p  w  o  e  w  v  d\n",
      "8118  p  k  y  n  f  f  f  c  n  b ...  s  p  w  p  w  o  e  w  v  d\n",
      "8119  e  k  s  n  f  n  a  c  b  y ...  s  o  o  p  o  o  p  b  c  l\n",
      "8120  e  x  s  n  f  n  a  c  b  y ...  s  o  o  p  n  o  p  b  v  l\n",
      "8121  e  f  s  n  f  n  a  c  b  n ...  s  o  o  p  o  o  p  b  c  l\n",
      "8122  p  k  y  n  f  y  f  c  n  b ...  k  w  w  p  w  o  e  w  v  l\n",
      "8123  e  x  s  n  f  n  a  c  b  y ...  s  o  o  p  o  o  p  o  c  l\n",
      "\n",
      "[8124 rows x 23 columns]\n"
     ]
    }
   ],
   "source": [
    "# データの読み込み --- (※1)\n",
    "mr = pd.read_csv(\"mushroom.csv\", header=None)\n",
    "print(mr)"
   ]
  },
  {
   "cell_type": "code",
   "execution_count": 4,
   "metadata": {},
   "outputs": [
    {
     "name": "stdout",
     "output_type": "stream",
     "text": [
      "[[120, 115, 110, 116, 112, 102, 99, 110, 107, 101, 101, 115, 115, 119, 119, 112, 119, 111, 112, 107, 115, 117], [120, 115, 121, 116, 97, 102, 99, 98, 107, 101, 99, 115, 115, 119, 119, 112, 119, 111, 112, 110, 110, 103], [98, 115, 119, 116, 108, 102, 99, 98, 110, 101, 99, 115, 115, 119, 119, 112, 119, 111, 112, 110, 110, 109], [120, 121, 119, 116, 112, 102, 99, 110, 110, 101, 101, 115, 115, 119, 119, 112, 119, 111, 112, 107, 115, 117], [120, 115, 103, 102, 110, 102, 119, 98, 107, 116, 101, 115, 115, 119, 119, 112, 119, 111, 101, 110, 97, 103], [120, 121, 121, 116, 97, 102, 99, 98, 110, 101, 99, 115, 115, 119, 119, 112, 119, 111, 112, 107, 110, 103], [98, 115, 119, 116, 97, 102, 99, 98, 103, 101, 99, 115, 115, 119, 119, 112, 119, 111, 112, 107, 110, 109], [98, 121, 119, 116, 108, 102, 99, 98, 110, 101, 99, 115, 115, 119, 119, 112, 119, 111, 112, 110, 115, 109], [120, 121, 119, 116, 112, 102, 99, 110, 112, 101, 101, 115, 115, 119, 119, 112, 119, 111, 112, 107, 118, 103], [98, 115, 121, 116, 97, 102, 99, 98, 103, 101, 99, 115, 115, 119, 119, 112, 119, 111, 112, 107, 115, 109]]\n",
      "8124\n",
      "22\n"
     ]
    }
   ],
   "source": [
    "# データ中の記号を数値に変換する --- (※2)\n",
    "\n",
    "label = []\n",
    "data = []\n",
    "attr_list = []\n",
    "for row_index, row in mr.iterrows():\n",
    "    label.append(row.ix[0])\n",
    "    row_data = []\n",
    "    for v in row.ix[1:]:\n",
    "        # ord 関数はUnicode コードポイントを表す整数を返す\n",
    "#         print('ord: ', str(ord(v)))\n",
    "#         print('v: ', str(v))\n",
    "        row_data.append(ord(v))\n",
    "    data.append(row_data)\n",
    "\n",
    "# 列数は全部で 23 （うち 1 列はラベル）\n",
    "print(data[:10])\n",
    "print(len(data))\n",
    "print(len(data[0]))"
   ]
  },
  {
   "cell_type": "code",
   "execution_count": 5,
   "metadata": {},
   "outputs": [],
   "source": [
    "# 学習用とテスト用データに分ける --- (※3)\n",
    "data_train, data_test, label_train, label_test = \\\n",
    "    cross_validation.train_test_split(data, label)"
   ]
  },
  {
   "cell_type": "code",
   "execution_count": 6,
   "metadata": {},
   "outputs": [
    {
     "data": {
      "text/plain": [
       "RandomForestClassifier(bootstrap=True, class_weight=None, criterion='gini',\n",
       "            max_depth=None, max_features='auto', max_leaf_nodes=None,\n",
       "            min_impurity_split=1e-07, min_samples_leaf=1,\n",
       "            min_samples_split=2, min_weight_fraction_leaf=0.0,\n",
       "            n_estimators=10, n_jobs=1, oob_score=False, random_state=None,\n",
       "            verbose=0, warm_start=False)"
      ]
     },
     "execution_count": 6,
     "metadata": {},
     "output_type": "execute_result"
    }
   ],
   "source": [
    "# データの学習 --- (※4)\n",
    "clf = RandomForestClassifier()\n",
    "clf.fit(data_train, label_train)"
   ]
  },
  {
   "cell_type": "code",
   "execution_count": 7,
   "metadata": {},
   "outputs": [],
   "source": [
    "# データを予測 --- (※5)\n",
    "predict = clf.predict(data_test)"
   ]
  },
  {
   "cell_type": "code",
   "execution_count": 8,
   "metadata": {},
   "outputs": [
    {
     "name": "stdout",
     "output_type": "stream",
     "text": [
      "正解率= 1.0\n",
      "レポート=\n",
      "              precision    recall  f1-score   support\n",
      "\n",
      "          e       1.00      1.00      1.00      1047\n",
      "          p       1.00      1.00      1.00       984\n",
      "\n",
      "avg / total       1.00      1.00      1.00      2031\n",
      "\n"
     ]
    }
   ],
   "source": [
    "# 合っているか結果を確認 --- (※6)\n",
    "ac_score = metrics.accuracy_score(label_test, predict)\n",
    "cl_report = metrics.classification_report(label_test, predict)\n",
    "print(\"正解率=\", ac_score)\n",
    "print(\"レポート=\\n\", cl_report)"
   ]
  },
  {
   "cell_type": "code",
   "execution_count": null,
   "metadata": {},
   "outputs": [],
   "source": []
  }
 ],
 "metadata": {
  "kernelspec": {
   "display_name": "Python 3",
   "language": "python",
   "name": "python3"
  },
  "language_info": {
   "codemirror_mode": {
    "name": "ipython",
    "version": 3
   },
   "file_extension": ".py",
   "mimetype": "text/x-python",
   "name": "python",
   "nbconvert_exporter": "python",
   "pygments_lexer": "ipython3",
   "version": "3.6.2"
  }
 },
 "nbformat": 4,
 "nbformat_minor": 2
}
