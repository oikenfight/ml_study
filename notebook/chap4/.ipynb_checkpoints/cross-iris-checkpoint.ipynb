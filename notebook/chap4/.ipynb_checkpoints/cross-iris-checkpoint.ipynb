{
 "cells": [
  {
   "cell_type": "code",
   "execution_count": 1,
   "metadata": {},
   "outputs": [],
   "source": [
    "from sklearn import svm, metrics\n",
    "import random, re"
   ]
  },
  {
   "cell_type": "code",
   "execution_count": 3,
   "metadata": {},
   "outputs": [],
   "source": [
    "# アヤメのCSVデータを読み込む --- (※1)\n",
    "lines = open('iris.csv', 'r', encoding='utf-8').read().split(\"\\n\")\n",
    "f_tonum = lambda n : float(n) if re.match(r'^[0-9\\.]+$', n) else n\n",
    "f_cols  = lambda li: list(map(f_tonum,li.strip().split(',')))\n",
    "csv = list(map(f_cols, lines))\n",
    "del csv[0] # 先頭のヘッダ行を削除\n",
    "random.shuffle(csv) # データをシャッフル"
   ]
  },
  {
   "cell_type": "code",
   "execution_count": 4,
   "metadata": {},
   "outputs": [],
   "source": [
    "# データをK分割する --- (※2)\n",
    "K = 5 \n",
    "csvk = [ [] for i in range(K) ]\n",
    "for i in range(len(csv)):\n",
    "    csvk[i % K].append(csv[i])"
   ]
  },
  {
   "cell_type": "code",
   "execution_count": 5,
   "metadata": {},
   "outputs": [],
   "source": [
    "# リストを訓練データとラベルに分割する関数\n",
    "def split_data_label(rows):\n",
    "    data = []; label = []\n",
    "    for row in rows:\n",
    "        data.append(row[0:4])\n",
    "        label.append(row[4])\n",
    "    return (data, label)"
   ]
  },
  {
   "cell_type": "code",
   "execution_count": 6,
   "metadata": {},
   "outputs": [],
   "source": [
    "# 正解率を求める --- (※3)\n",
    "def calc_score(test, train):\n",
    "    test_f, test_l = split_data_label(test)\n",
    "    train_f, train_l = split_data_label(train)\n",
    "    # 区連データを学習して分類して正解率を求める\n",
    "    clf = svm.SVC()\n",
    "    clf.fit(train_f, train_l)\n",
    "    pre = clf.predict(test_f)\n",
    "    return metrics.accuracy_score(test_l, pre)"
   ]
  },
  {
   "cell_type": "code",
   "execution_count": 7,
   "metadata": {},
   "outputs": [],
   "source": [
    "# K分割したデータについて正解率を求める --- (※4)\n",
    "score_list = []\n",
    "for testc in csvk:\n",
    "    # testc以外のデータを訓練データとする\n",
    "    trainc = []\n",
    "    for i in csvk:\n",
    "        if i != testc: trainc += i\n",
    "    sc = calc_score(testc, trainc)\n",
    "    score_list.append(sc)"
   ]
  },
  {
   "cell_type": "code",
   "execution_count": 8,
   "metadata": {},
   "outputs": [
    {
     "name": "stdout",
     "output_type": "stream",
     "text": [
      "各正解率= [1.0, 1.0, 0.93333333333333335, 0.93333333333333335, 0.96666666666666667]\n",
      "平均正解率= 0.966666666667\n"
     ]
    }
   ],
   "source": [
    "print(\"各正解率=\", score_list)\n",
    "print(\"平均正解率=\", sum(score_list) / len(score_list))"
   ]
  },
  {
   "cell_type": "code",
   "execution_count": null,
   "metadata": {},
   "outputs": [],
   "source": []
  }
 ],
 "metadata": {
  "kernelspec": {
   "display_name": "Python 3",
   "language": "python",
   "name": "python3"
  },
  "language_info": {
   "codemirror_mode": {
    "name": "ipython",
    "version": 3
   },
   "file_extension": ".py",
   "mimetype": "text/x-python",
   "name": "python",
   "nbconvert_exporter": "python",
   "pygments_lexer": "ipython3",
   "version": "3.6.2"
  }
 },
 "nbformat": 4,
 "nbformat_minor": 2
}
