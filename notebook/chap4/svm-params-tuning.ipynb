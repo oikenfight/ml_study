{
 "cells": [
  {
   "cell_type": "markdown",
   "metadata": {},
   "source": [
    "## iris_data で svm のパラメータをいじってみる\n",
    "\n",
    "* svm をただ使うのは簡単\n",
    "* どのパラメータがどう効くのか試してみる"
   ]
  },
  {
   "cell_type": "code",
   "execution_count": 1,
   "metadata": {},
   "outputs": [
    {
     "name": "stderr",
     "output_type": "stream",
     "text": [
      "/opt/conda/lib/python3.6/site-packages/sklearn/cross_validation.py:44: DeprecationWarning: This module was deprecated in version 0.18 in favor of the model_selection module into which all the refactored classes and functions are moved. Also note that the interface of the new CV iterators are different from that of this module. This module will be removed in 0.20.\n",
      "  \"This module will be removed in 0.20.\", DeprecationWarning)\n"
     ]
    }
   ],
   "source": [
    "import pandas as pd\n",
    "from sklearn import cross_validation, svm, metrics\n",
    "import random, re\n",
    "import numpy as np\n",
    "import matplotlib.pyplot as plt"
   ]
  },
  {
   "cell_type": "code",
   "execution_count": 2,
   "metadata": {},
   "outputs": [],
   "source": [
    "# アヤメのCSVデータを読み込む --- (※1)\n",
    "csv = pd.read_csv('iris.csv')"
   ]
  },
  {
   "cell_type": "code",
   "execution_count": 3,
   "metadata": {},
   "outputs": [],
   "source": [
    "# リストを訓練データとラベルに分割する --- (※2)\n",
    "data = csv[[\"SepalLength\",\"SepalWidth\"]][:100]\n",
    "\n",
    "# ラベルが str であとで困ったから、数値にしておく\n",
    "# label = csv[\"Name\"][:100]\n",
    "label = csv[\"Name\"][:100].map({'Iris-setosa': 0, 'Iris-versicolor': 1})"
   ]
  },
  {
   "cell_type": "code",
   "execution_count": 4,
   "metadata": {},
   "outputs": [],
   "source": [
    "#ノイズを発生させる\n",
    "# 0 ~ 1 の範囲で同じ shape の乱数を発生させる\n",
    "\n",
    "# error = np.random.uniform(0, 1.0, size=np.shape(data))\n",
    "# print(error)"
   ]
  },
  {
   "cell_type": "code",
   "execution_count": 5,
   "metadata": {},
   "outputs": [],
   "source": [
    "# これをデータに加えることで、ノイズを与える\n",
    "# data += error"
   ]
  },
  {
   "cell_type": "code",
   "execution_count": 7,
   "metadata": {},
   "outputs": [
    {
     "name": "stdout",
     "output_type": "stream",
     "text": [
      "data_train: 75, data_test: 25, label_train: 75, label_test: 25\n"
     ]
    }
   ],
   "source": [
    "# 学習用とテスト用データに分ける\n",
    "data_train, data_test, label_train, label_test = cross_validation.train_test_split(data, label)\n",
    "\n",
    "# データが分かれたか確認\n",
    "print(\"data_train: {0}, data_test: {1}, label_train: {2}, label_test: {3}\"\n",
    "      .format(len(data_train), len(data_test), len(label_train), len(label_test)))"
   ]
  },
  {
   "cell_type": "code",
   "execution_count": 26,
   "metadata": {},
   "outputs": [
    {
     "data": {
      "text/plain": [
       "SVC(C=0.0009765625, cache_size=200, class_weight=None, coef0=0.0,\n",
       "  decision_function_shape=None, degree=3, gamma=32, kernel='rbf',\n",
       "  max_iter=-1, probability=False, random_state=None, shrinking=True,\n",
       "  tol=0.001, verbose=False)"
      ]
     },
     "execution_count": 26,
     "metadata": {},
     "output_type": "execute_result"
    }
   ],
   "source": [
    "# データを学習 --- (※4)\n",
    "clf = svm.SVC()\n",
    "\n",
    "# パラメータを調整してみる\n",
    "# C が小さいほど誤分類を許容\n",
    "# gamma が小さいほど単純な境界線\n",
    "\n",
    "# c が小さい かつ gamma が小さい => 超平面が単純で間違いを許容\n",
    "# clf = svm.SVC(C=2 ** -2, gamma=2 ** -5)\n",
    "\n",
    "# c が小さい かつ gamma が大きい => 超平面が複雑で間違いを許容\n",
    "# clf = svm.SVC(C=2 ** -2, gamma=2 ** 5)\n",
    "\n",
    "# c が大きい かつ gamma が小さい => 超平面が単純で間違い厳しめ\n",
    "# clf = svm.SVC(C=2 ** 5, gamma=2 ** -5)\n",
    "\n",
    "# c が大きい かつ gamma が大きい => 超平面が複雑で間違い厳しめ\n",
    "clf = svm.SVC(C=2 ** 10, gamma=2 ** 5)\n",
    "\n",
    "clf.fit(data_train, label_train)"
   ]
  },
  {
   "cell_type": "code",
   "execution_count": 27,
   "metadata": {},
   "outputs": [
    {
     "name": "stdout",
     "output_type": "stream",
     "text": [
      "正解率= 0.44\n",
      "レポート=\n",
      "              precision    recall  f1-score   support\n",
      "\n",
      "          0       0.00      0.00      0.00        14\n",
      "          1       0.44      1.00      0.61        11\n",
      "\n",
      "avg / total       0.19      0.44      0.27        25\n",
      "\n"
     ]
    },
    {
     "name": "stderr",
     "output_type": "stream",
     "text": [
      "/opt/conda/lib/python3.6/site-packages/sklearn/metrics/classification.py:1113: UndefinedMetricWarning: Precision and F-score are ill-defined and being set to 0.0 in labels with no predicted samples.\n",
      "  'precision', 'predicted', average, warn_for)\n"
     ]
    }
   ],
   "source": [
    "# データを予測 --- (※5)\n",
    "predict = clf.predict(data_test)# 合っているか結果を確認 --- (※6)\n",
    "ac_score = metrics.accuracy_score(label_test, predict)\n",
    "cl_report = metrics.classification_report(label_test, predict)\n",
    "print(\"正解率=\", ac_score)\n",
    "print(\"レポート=\\n\", cl_report)"
   ]
  },
  {
   "cell_type": "code",
   "execution_count": 28,
   "metadata": {},
   "outputs": [
    {
     "data": {
      "image/png": "[encoded data removed]",
      "text/plain": [
       "<matplotlib.figure.Figure at 0x7f58cc37df60>"
      ]
     },
     "metadata": {},
     "output_type": "display_data"
    }
   ],
   "source": [
    "#meshのステップサイズ\n",
    "h = 0.02\n",
    "x_min, x_max = data.values[:, 0].min() - 1, data.values[:, 0].max() + 1\n",
    "y_min, y_max = data.values[:, 1].min() - 1, data.values[:, 1].max() + 1\n",
    "xx, yy = np.meshgrid(np.arange(x_min, x_max, h), np.arange(y_min, y_max, h))\n",
    "\n",
    "Z = clf.predict(np.c_[xx.ravel(), yy.ravel()])\n",
    "Z = Z.reshape(xx.shape)\n",
    "\n",
    "plt.contourf(xx, yy, Z, cmap=plt.cm.Paired, alpha=0.8)\n",
    "plt.scatter(data.values[:, 0], data.values[:, 1], c=label, cmap=plt.cm.Paired)\n",
    "plt.xlabel(\"Sepal length\")\n",
    "plt.ylabel(\"Sepal width\")\n",
    "plt.xlim(xx.min(), xx.max())\n",
    "plt.ylim(yy.min(), yy.max())\n",
    "plt.xticks(())\n",
    "plt.yticks(())\n",
    "plt.show()"
   ]
  },
  {
   "cell_type": "code",
   "execution_count": null,
   "metadata": {},
   "outputs": [],
   "source": []
  },
  {
   "cell_type": "code",
   "execution_count": null,
   "metadata": {},
   "outputs": [],
   "source": []
  }
 ],
 "metadata": {
  "kernelspec": {
   "display_name": "Python 3",
   "language": "python",
   "name": "python3"
  },
  "language_info": {
   "codemirror_mode": {
    "name": "ipython",
    "version": 3
   },
   "file_extension": ".py",
   "mimetype": "text/x-python",
   "name": "python",
   "nbconvert_exporter": "python",
   "pygments_lexer": "ipython3",
   "version": "3.6.2"
  }
 },
 "nbformat": 4,
 "nbformat_minor": 2
}
