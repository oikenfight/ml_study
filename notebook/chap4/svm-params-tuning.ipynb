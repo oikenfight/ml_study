{
 "cells": [
  {
   "cell_type": "markdown",
   "metadata": {},
   "source": [
    "## iris_data で svm のパラメータをいじってみる\n",
    "\n",
    "* svm をただ使うのは簡単\n",
    "* どのパラメータがどう効くのか試してみる"
   ]
  },
  {
   "cell_type": "code",
   "execution_count": 1,
   "metadata": {},
   "outputs": [
    {
     "name": "stderr",
     "output_type": "stream",
     "text": [
      "/opt/conda/lib/python3.6/site-packages/sklearn/cross_validation.py:44: DeprecationWarning: This module was deprecated in version 0.18 in favor of the model_selection module into which all the refactored classes and functions are moved. Also note that the interface of the new CV iterators are different from that of this module. This module will be removed in 0.20.\n",
      "  \"This module will be removed in 0.20.\", DeprecationWarning)\n"
     ]
    }
   ],
   "source": [
    "import pandas as pd\n",
    "from sklearn import cross_validation, svm, metrics\n",
    "import random, re\n",
    "import numpy as np\n",
    "import matplotlib.pyplot as plt"
   ]
  },
  {
   "cell_type": "code",
   "execution_count": 2,
   "metadata": {},
   "outputs": [],
   "source": [
    "# アヤメのCSVデータを読み込む --- (※1)\n",
    "csv = pd.read_csv('iris.csv')"
   ]
  },
  {
   "cell_type": "code",
   "execution_count": 3,
   "metadata": {},
   "outputs": [],
   "source": [
    "# リストを訓練データとラベルに分割する --- (※2)\n",
    "data = csv[[\"SepalLength\",\"SepalWidth\"]][:100]\n",
    "\n",
    "# ラベルが str であとで困ったから、数値にしておく\n",
    "# label = csv[\"Name\"][:100]\n",
    "label = csv[\"Name\"][:100].map({'Iris-setosa': 0, 'Iris-versicolor': 1})"
   ]
  },
  {
   "cell_type": "code",
   "execution_count": 4,
   "metadata": {},
   "outputs": [],
   "source": [
    "#ノイズを発生させる\n",
    "# 0 ~ 1 の範囲で同じ shape の乱数を発生させる\n",
    "\n",
    "# error = np.random.uniform(0, 1.0, size=np.shape(data))\n",
    "# print(error)"
   ]
  },
  {
   "cell_type": "code",
   "execution_count": 5,
   "metadata": {},
   "outputs": [],
   "source": [
    "# これをデータに加えることで、ノイズを与える\n",
    "# data += error"
   ]
  },
  {
   "cell_type": "code",
<<<<<<< HEAD
   "execution_count": 5,
=======
   "execution_count": 7,
>>>>>>> 6598b232d4a318cbe08ce12923afb2431363dd83
   "metadata": {},
   "outputs": [
    {
     "name": "stdout",
     "output_type": "stream",
     "text": [
      "data_train: 75, data_test: 25, label_train: 75, label_test: 25\n"
     ]
    }
   ],
   "source": [
    "# 学習用とテスト用データに分ける\n",
    "data_train, data_test, label_train, label_test = cross_validation.train_test_split(data, label)\n",
    "\n",
    "# データが分かれたか確認\n",
    "print(\"data_train: {0}, data_test: {1}, label_train: {2}, label_test: {3}\"\n",
    "      .format(len(data_train), len(data_test), len(label_train), len(label_test)))"
   ]
  },
  {
   "cell_type": "code",
<<<<<<< HEAD
   "execution_count": 15,
=======
   "execution_count": 26,
>>>>>>> 6598b232d4a318cbe08ce12923afb2431363dd83
   "metadata": {},
   "outputs": [
    {
     "data": {
      "text/plain": [
<<<<<<< HEAD
       "SVC(C=32, cache_size=200, class_weight=None, coef0=0.0,\n",
       "  decision_function_shape=None, degree=3, gamma=0.03125, kernel='rbf',\n",
=======
       "SVC(C=0.0009765625, cache_size=200, class_weight=None, coef0=0.0,\n",
       "  decision_function_shape=None, degree=3, gamma=32, kernel='rbf',\n",
>>>>>>> 6598b232d4a318cbe08ce12923afb2431363dd83
       "  max_iter=-1, probability=False, random_state=None, shrinking=True,\n",
       "  tol=0.001, verbose=False)"
      ]
     },
<<<<<<< HEAD
     "execution_count": 15,
=======
     "execution_count": 26,
>>>>>>> 6598b232d4a318cbe08ce12923afb2431363dd83
     "metadata": {},
     "output_type": "execute_result"
    }
   ],
   "source": [
    "# データを学習 --- (※4)\n",
    "clf = svm.SVC()\n",
    "\n",
    "# パラメータを調整してみる\n",
    "# C が小さいほど誤分類を許容 C:コストパラメータ\n",
    "# gamma が小さいほど単純な境界線\n",
    "# gamma が大きいほど過学習チック\n",
    "\n",
    "# c が小さい かつ gamma が小さい => 超平面が単純で間違いを許容\n",
    "# clf = svm.SVC(C=2 ** -2, gamma=2 ** -5)\n",
    "\n",
    "# c が小さい かつ gamma が大きい => 超平面が複雑で間違いを許容。データ特化で過学習\n",
    "# clf = svm.SVC(C=2 ** -2, gamma=2 ** 5)\n",
    "\n",
    "# c が大きい かつ gamma が小さい => 超平面が単純で間違い厳しめ。もっとも望ましい\n",
    "clf = svm.SVC(C=2 ** 5, gamma=2 ** -5)\n",
    "\n",
    "# c が大きい かつ gamma が大きい => 超平面が複雑で間違い厳しめ\n",
    "clf = svm.SVC(C=2 ** 10, gamma=2 ** 5)\n",
    "\n",
    "clf.fit(data_train, label_train)"
   ]
  },
  {
   "cell_type": "code",
<<<<<<< HEAD
   "execution_count": 16,
=======
   "execution_count": 27,
>>>>>>> 6598b232d4a318cbe08ce12923afb2431363dd83
   "metadata": {},
   "outputs": [
    {
     "name": "stdout",
     "output_type": "stream",
     "text": [
<<<<<<< HEAD
      "正解率= 1.0\n",
      "レポート=\n",
      "              precision    recall  f1-score   support\n",
      "\n",
      "          0       1.00      1.00      1.00        12\n",
      "          1       1.00      1.00      1.00        13\n",
      "\n",
      "avg / total       1.00      1.00      1.00        25\n",
=======
      "正解率= 0.44\n",
      "レポート=\n",
      "              precision    recall  f1-score   support\n",
      "\n",
      "          0       0.00      0.00      0.00        14\n",
      "          1       0.44      1.00      0.61        11\n",
      "\n",
      "avg / total       0.19      0.44      0.27        25\n",
>>>>>>> 6598b232d4a318cbe08ce12923afb2431363dd83
      "\n"
     ]
    },
    {
     "name": "stderr",
     "output_type": "stream",
     "text": [
      "/opt/conda/lib/python3.6/site-packages/sklearn/metrics/classification.py:1113: UndefinedMetricWarning: Precision and F-score are ill-defined and being set to 0.0 in labels with no predicted samples.\n",
      "  'precision', 'predicted', average, warn_for)\n"
     ]
    }
   ],
   "source": [
    "# データを予測 --- (※5)\n",
    "predict = clf.predict(data_test)# 合っているか結果を確認 --- (※6)\n",
    "ac_score = metrics.accuracy_score(label_test, predict)\n",
    "cl_report = metrics.classification_report(label_test, predict)\n",
    "print(\"正解率=\", ac_score)\n",
    "print(\"レポート=\\n\", cl_report)"
   ]
  },
  {
   "cell_type": "code",
<<<<<<< HEAD
   "execution_count": 17,
=======
   "execution_count": 28,
>>>>>>> 6598b232d4a318cbe08ce12923afb2431363dd83
   "metadata": {},
   "outputs": [
    {
     "data": {
<<<<<<< HEAD
      "image/png": "iVBORw0KGgoAAAANSUhEUgAAAW4AAAD5CAYAAAAHtt/AAAAABHNCSVQICAgIfAhkiAAAAAlwSFlz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\nrkJggg==\n",
      "text/plain": [
       "<matplotlib.figure.Figure at 0x7f38522d5828>"
=======
      "image/png": "iVBORw0KGgoAAAANSUhEUgAAAW4AAAD5CAYAAAAHtt/AAAAABHNCSVQICAgIfAhkiAAAAAlwSFlz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\n",
      "text/plain": [
       "<matplotlib.figure.Figure at 0x7f58cc37df60>"
>>>>>>> 6598b232d4a318cbe08ce12923afb2431363dd83
      ]
     },
     "metadata": {},
     "output_type": "display_data"
    }
   ],
   "source": [
    "#meshのステップサイズ\n",
    "h = 0.02\n",
    "x_min, x_max = data.values[:, 0].min() - 1, data.values[:, 0].max() + 1\n",
    "y_min, y_max = data.values[:, 1].min() - 1, data.values[:, 1].max() + 1\n",
    "xx, yy = np.meshgrid(np.arange(x_min, x_max, h), np.arange(y_min, y_max, h))\n",
    "\n",
    "Z = clf.predict(np.c_[xx.ravel(), yy.ravel()])\n",
    "Z = Z.reshape(xx.shape)\n",
    "\n",
    "plt.contourf(xx, yy, Z, cmap=plt.cm.Paired, alpha=0.8)\n",
    "plt.scatter(data.values[:, 0], data.values[:, 1], c=label, cmap=plt.cm.Paired)\n",
    "plt.xlabel(\"Sepal length\")\n",
    "plt.ylabel(\"Sepal width\")\n",
    "plt.xlim(xx.min(), xx.max())\n",
    "plt.ylim(yy.min(), yy.max())\n",
    "plt.xticks(())\n",
    "plt.yticks(())\n",
    "plt.show()"
   ]
  },
  {
   "cell_type": "code",
   "execution_count": null,
   "metadata": {},
   "outputs": [],
   "source": []
  },
  {
   "cell_type": "code",
   "execution_count": null,
   "metadata": {},
   "outputs": [],
   "source": []
  }
 ],
 "metadata": {
  "kernelspec": {
   "display_name": "Python 3",
   "language": "python",
   "name": "python3"
  },
  "language_info": {
   "codemirror_mode": {
    "name": "ipython",
    "version": 3
   },
   "file_extension": ".py",
   "mimetype": "text/x-python",
   "name": "python",
   "nbconvert_exporter": "python",
   "pygments_lexer": "ipython3",
   "version": "3.6.2"
  }
 },
 "nbformat": 4,
 "nbformat_minor": 2
}
