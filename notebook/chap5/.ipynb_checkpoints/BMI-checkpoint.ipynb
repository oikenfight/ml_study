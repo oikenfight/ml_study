{
 "cells": [
  {
   "cell_type": "code",
   "execution_count": 166,
   "metadata": {
    "collapsed": false
   },
   "outputs": [
    {
     "name": "stdout",
     "output_type": "stream",
     "text": [
      "       height  weight   label  label_pat\n",
      "0       0.710    0.62     fat  [0, 0, 1]\n",
      "1       0.710    0.73     fat  [0, 0, 1]\n",
      "2       0.885    0.61  normal  [0, 1, 0]\n",
      "3       0.935    0.48    thin  [1, 0, 0]\n",
      "4       0.765    0.60     fat  [0, 0, 1]\n",
      "5       0.930    0.59    thin  [1, 0, 0]\n",
      "6       0.830    0.53  normal  [0, 1, 0]\n",
      "7       0.965    0.56    thin  [1, 0, 0]\n",
      "8       0.920    0.43    thin  [1, 0, 0]\n",
      "9       0.965    0.64    thin  [1, 0, 0]\n",
      "10      0.775    0.69     fat  [0, 0, 1]\n",
      "11      0.710    0.63     fat  [0, 0, 1]\n",
      "12      0.905    0.72  normal  [0, 1, 0]\n",
      "13      0.945    0.62    thin  [1, 0, 0]\n",
      "14      0.700    0.62     fat  [0, 0, 1]\n",
      "15      0.765    0.37    thin  [1, 0, 0]\n",
      "16      0.655    0.55     fat  [0, 0, 1]\n",
      "17      0.685    0.68     fat  [0, 0, 1]\n",
      "18      0.765    0.40    thin  [1, 0, 0]\n",
      "19      0.680    0.50     fat  [0, 0, 1]\n",
      "20      0.625    0.73     fat  [0, 0, 1]\n",
      "21      0.960    0.71  normal  [0, 1, 0]\n",
      "22      0.735    0.49  normal  [0, 1, 0]\n",
      "23      0.805    0.36    thin  [1, 0, 0]\n",
      "24      0.860    0.71  normal  [0, 1, 0]\n",
      "25      0.715    0.73     fat  [0, 0, 1]\n",
      "26      0.935    0.56    thin  [1, 0, 0]\n",
      "27      0.700    0.51     fat  [0, 0, 1]\n",
      "28      0.605    0.72     fat  [0, 0, 1]\n",
      "29      0.915    0.36    thin  [1, 0, 0]\n",
      "...       ...     ...     ...        ...\n",
      "19970   0.605    0.66     fat  [0, 0, 1]\n",
      "19971   1.000    0.42    thin  [1, 0, 0]\n",
      "19972   0.620    0.62     fat  [0, 0, 1]\n",
      "19973   0.645    0.52     fat  [0, 0, 1]\n",
      "19974   0.845    0.74     fat  [0, 0, 1]\n",
      "19975   0.645    0.71     fat  [0, 0, 1]\n",
      "19976   0.695    0.56     fat  [0, 0, 1]\n",
      "19977   0.835    0.80     fat  [0, 0, 1]\n",
      "19978   0.790    0.50  normal  [0, 1, 0]\n",
      "19979   0.950    0.72  normal  [0, 1, 0]\n",
      "19980   0.845    0.36    thin  [1, 0, 0]\n",
      "19981   0.865    0.55    thin  [1, 0, 0]\n",
      "19982   0.705    0.37  normal  [0, 1, 0]\n",
      "19983   0.920    0.62    thin  [1, 0, 0]\n",
      "19984   0.845    0.63  normal  [0, 1, 0]\n",
      "19985   0.780    0.54  normal  [0, 1, 0]\n",
      "19986   0.690    0.77     fat  [0, 0, 1]\n",
      "19987   0.795    0.55  normal  [0, 1, 0]\n",
      "19988   0.700    0.71     fat  [0, 0, 1]\n",
      "19989   0.675    0.67     fat  [0, 0, 1]\n",
      "19990   0.675    0.48     fat  [0, 0, 1]\n",
      "19991   0.840    0.40    thin  [1, 0, 0]\n",
      "19992   0.765    0.67     fat  [0, 0, 1]\n",
      "19993   0.980    0.68    thin  [1, 0, 0]\n",
      "19994   0.875    0.54    thin  [1, 0, 0]\n",
      "19995   0.610    0.58     fat  [0, 0, 1]\n",
      "19996   0.965    0.69  normal  [0, 1, 0]\n",
      "19997   0.965    0.37    thin  [1, 0, 0]\n",
      "19998   0.975    0.51    thin  [1, 0, 0]\n",
      "19999   0.815    0.67  normal  [0, 1, 0]\n",
      "\n",
      "[20000 rows x 4 columns]\n"
     ]
    }
   ],
   "source": [
    "import pandas as pd\n",
    "import numpy as np\n",
    "import json\n",
    "\n",
    "# 身長,体重,ラベルのCSVデータを読み出す\n",
    "csv = pd.read_csv(\"bmi.csv\")\n",
    "# ラベルを三次元のクラスで表す\n",
    "bclass = {\"thin\": [1,0,0], \"normal\": [0,1,0], \"fat\": [0,0,1]}\n",
    "csv[\"label_pat\"] = csv[\"label\"].apply(lambda x : np.array(bclass[x]))\n",
    "# データを正規化\n",
    "csv[\"height\"] = csv[\"height\"] / 200\n",
    "csv[\"weight\"] = csv[\"weight\"] / 100\n",
    "print(csv)\n"
   ]
  },
  {
   "cell_type": "code",
   "execution_count": 167,
   "metadata": {
    "collapsed": false
   },
   "outputs": [
    {
     "data": {
      "text/html": [
       "<div>\n",
       "<table border=\"1\" class=\"dataframe\">\n",
       "  <thead>\n",
       "    <tr style=\"text-align: right;\">\n",
       "      <th></th>\n",
       "      <th>height</th>\n",
       "      <th>weight</th>\n",
       "      <th>label</th>\n",
       "      <th>label_pat</th>\n",
       "    </tr>\n",
       "  </thead>\n",
       "  <tbody>\n",
       "  </tbody>\n",
       "</table>\n",
       "</div>"
      ],
      "text/plain": [
       "Empty DataFrame\n",
       "Columns: [height, weight, label, label_pat]\n",
       "Index: []"
      ]
     },
     "execution_count": 167,
     "metadata": {},
     "output_type": "execute_result"
    }
   ],
   "source": [
    "step=0\n",
    "rows = csv[step*10:(step+1)*10]\n",
    "x_pat = rows[[\"weight\",\"height\"]]\n",
    "y_ans = rows[\"label_pat\"]\n",
    "\n",
    "csv[0:0]"
   ]
  },
  {
   "cell_type": "code",
   "execution_count": 15,
   "metadata": {
    "collapsed": true
   },
   "outputs": [],
   "source": [
    "import tensorflow as tf\n"
   ]
  },
  {
   "cell_type": "code",
   "execution_count": 168,
   "metadata": {
    "collapsed": false
   },
   "outputs": [
    {
     "data": {
      "text/plain": [
       "array([[ 0.,  0.,  1.],\n",
       "       [ 0.,  1.,  0.],\n",
       "       [ 1.,  0.,  0.],\n",
       "       [ 0.,  0.,  1.],\n",
       "       [ 1.,  0.,  0.],\n",
       "       [ 0.,  1.,  0.],\n",
       "       [ 1.,  0.,  0.],\n",
       "       [ 1.,  0.,  0.],\n",
       "       [ 1.,  0.,  0.]], dtype=float32)"
      ]
     },
     "execution_count": 168,
     "metadata": {},
     "output_type": "execute_result"
    }
   ],
   "source": [
    "step = 0\n",
    "rows = csv[1+step*10:(step+1)*10]\n",
    "x_pat = rows[[\"weight\",\"height\"]]\n",
    "y_ans = list(rows[\"label_pat\"])\n",
    "\n",
    "x = tf.placeholder(tf.float32, [None, 2], name=\"x\")\n",
    "y_ = tf.placeholder(tf.float32, [None, 3], name=\"y_\")\n",
    "\n",
    "sess = tf.Session()\n",
    "#sess.run(x, feed_dict={x: x_pat})\n",
    "sess.run(y_, feed_dict={y_: y_ans})\n",
    "\n",
    "\n"
   ]
  },
  {
   "cell_type": "code",
   "execution_count": 194,
   "metadata": {
    "collapsed": false
   },
   "outputs": [
    {
     "name": "stdout",
     "output_type": "stream",
     "text": [
      "step= 0 e= 110.712 a= 0.3242\n",
      "step= 100 e= 82.2665 a= 0.6944\n",
      "step= 200 e= 70.0481 a= 0.7724\n",
      "step= 300 e= 63.0015 a= 0.8188\n",
      "step= 400 e= 58.2216 a= 0.8488\n",
      "step= 500 e= 54.6684 a= 0.8712\n",
      "step= 600 e= 51.8711 a= 0.89\n",
      "step= 700 e= 49.5815 a= 0.9012\n",
      "step= 800 e= 47.6539 a= 0.9096\n",
      "step= 900 e= 45.9967 a= 0.9196\n",
      "step= 1000 e= 44.5482 a= 0.9268\n",
      "step= 1100 e= 43.2653 a= 0.9348\n",
      "step= 1200 e= 42.117 a= 0.9394\n",
      "step= 1300 e= 41.0798 a= 0.9434\n",
      "step= 1400 e= 40.1358 a= 0.9472\n",
      "step= 1500 e= 39.2711 a= 0.9518\n",
      "step= 1600 e= 38.4745 a= 0.9532\n",
      "step= 1700 e= 37.737 a= 0.9542\n",
      "step= 1800 e= 37.0513 a= 0.957\n",
      "step= 1900 e= 36.4111 a= 0.9588\n",
      "step= 2000 e= 35.8115 a= 0.9608\n",
      "step= 2100 e= 35.2479 a= 0.9624\n",
      "step= 2200 e= 34.7169 a= 0.9632\n",
      "step= 2300 e= 34.2151 a= 0.9644\n",
      "step= 2400 e= 33.7398 a= 0.9646\n",
      "step= 2500 e= 33.2887 a= 0.965\n",
      "step= 2600 e= 32.8596 a= 0.9658\n",
      "step= 2700 e= 32.4508 a= 0.9664\n",
      "step= 2800 e= 32.0605 a= 0.9662\n",
      "step= 2900 e= 31.6874 a= 0.9668\n",
      "step= 3000 e= 31.3302 a= 0.9672\n",
      "step= 3100 e= 30.9876 a= 0.9676\n",
      "step= 3200 e= 30.6588 a= 0.9674\n",
      "step= 3300 e= 30.3426 a= 0.9682\n",
      "step= 3400 e= 30.0384 a= 0.9692\n",
      "step= 3500 e= 29.7453 a= 0.97\n",
      "step= 3600 e= 29.4626 a= 0.97\n",
      "step= 3700 e= 29.1897 a= 0.9704\n",
      "step= 3800 e= 28.9261 a= 0.9714\n",
      "step= 3900 e= 28.6711 a= 0.9714\n",
      "step= 4000 e= 28.4243 a= 0.9714\n",
      "step= 4100 e= 28.1853 a= 0.9712\n",
      "step= 4200 e= 27.9536 a= 0.9716\n",
      "step= 4300 e= 27.7288 a= 0.9724\n",
      "step= 4400 e= 27.5106 a= 0.9726\n",
      "step= 4500 e= 27.2987 a= 0.9726\n",
      "step= 4600 e= 27.0928 a= 0.9732\n",
      "step= 4700 e= 26.8925 a= 0.9736\n",
      "step= 4800 e= 26.6976 a= 0.9738\n",
      "step= 4900 e= 26.5078 a= 0.9738\n"
     ]
    }
   ],
   "source": [
    "# データを入れるプレースホルダを宣言\n",
    "x    = tf.placeholder(tf.float32, [None, 2], name=\"x\") # 身長,体重のデータを入れる\n",
    "y_ = tf.placeholder(tf.float32, [None, 3]) # 答えのラベルを入れる\n",
    "\n",
    "# 変数を宣言\n",
    "W = tf.Variable(tf.random_uniform([2, 3], -1.0, 1.0)); # 重み\n",
    "b = tf.Variable(tf.zeros([3])); # バイアス\n",
    "# ソフトマックス回帰を定義\n",
    "y = tf.nn.softmax(tf.matmul(x, W) + b)\n",
    "\n",
    "# モデルを訓練する\n",
    "cross_entropy = -tf.reduce_sum(y_ * tf.log(tf.clip_by_value(y, 1e-10,1.0)))\n",
    "optimizer = tf.train.GradientDescentOptimizer(0.01)\n",
    "train = optimizer.minimize(cross_entropy)\n",
    "\n",
    "# 正解率を求めるためにテストデータを準備\n",
    "test_csv = csv[15000:20000]\n",
    "test_pat = test_csv[[\"weight\",\"height\"]]\n",
    "test_ans = list(test_csv[\"label_pat\"])\n",
    "# 正解率を求める\n",
    "predict = tf.equal(tf.argmax(y, 1), tf.argmax(y_,1))\n",
    "acc = tf.reduce_mean(tf.cast(predict, \"float\"))\n",
    "\n",
    "# セッションを開始\n",
    "sess = tf.Session()\n",
    "sess.run(tf.initialize_all_variables()) #変数を初期化\n",
    "# テストデータを用いて学習させる\n",
    "for step in range(5000):\n",
    "    i = (step * 100) % 1000\n",
    "    rows = csv[1 + i : 1 + i + 100]\n",
    "    x_pat = rows[[\"weight\",\"height\"]]\n",
    "    y_ans = list(rows[\"label_pat\"])\n",
    "    fd = {x: x_pat, y_: y_ans}\n",
    "    sess.run(train, feed_dict=fd)\n",
    "    if step % 100 == 0:\n",
    "        e = sess.run(cross_entropy, feed_dict=fd)\n",
    "        a = sess.run(acc, feed_dict={x: test_pat, y_: test_ans})\n",
    "        print(\"step=\", step, \"ce=\", e, \"acc=\", a)\n",
    "        "
   ]
  },
  {
   "cell_type": "code",
   "execution_count": 186,
   "metadata": {
    "collapsed": false
   },
   "outputs": [
    {
     "name": "stdout",
     "output_type": "stream",
     "text": [
      "0.811\n"
     ]
    }
   ],
   "source": [
    "# データを予測\n",
    "test_csv = csv[15000:20000]\n",
    "test_pat = test_csv[[\"weight\",\"height\"]]\n",
    "test_ans = list(test_csv[\"label_pat\"])\n",
    "predict = tf.equal(tf.argmax(y, 1), tf.argmax(y_,1))\n",
    "acc = tf.reduce_mean(tf.cast(predict, \"float\"))\n",
    "r = sess.run(acc, feed_dict={x: test_pat, y_:test_ans})\n",
    "print(r)"
   ]
  },
  {
   "cell_type": "code",
   "execution_count": 183,
   "metadata": {
    "collapsed": false
   },
   "outputs": [
    {
     "name": "stdout",
     "output_type": "stream",
     "text": [
      "[2]\n"
     ]
    }
   ],
   "source": [
    "test = tf.argmax(y, 1)\n",
    "r = sess.run(test, feed_dict={x: [[70/100, 170/200]]})\n",
    "print(r)\n",
    "                                                          "
   ]
  },
  {
   "cell_type": "code",
   "execution_count": null,
   "metadata": {
    "collapsed": true
   },
   "outputs": [],
   "source": []
  }
 ],
 "metadata": {
  "kernelspec": {
   "display_name": "Python 3",
   "language": "python",
   "name": "python3"
  },
  "language_info": {
   "codemirror_mode": {
    "name": "ipython",
    "version": 3
   },
   "file_extension": ".py",
   "mimetype": "text/x-python",
   "name": "python",
   "nbconvert_exporter": "python",
   "pygments_lexer": "ipython3",
   "version": "3.5.1"
  }
 },
 "nbformat": 4,
 "nbformat_minor": 1
}
